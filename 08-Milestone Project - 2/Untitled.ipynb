{
 "cells": [
  {
   "cell_type": "code",
   "execution_count": 2,
   "metadata": {},
   "outputs": [],
   "source": [
    "class card:\n",
    "\n",
    "    def __init__(self, card_type, value):\n",
    "        self.card_type = card_type\n",
    "        self.value = value\n",
    "\n",
    "    def setType(self,new_type):\n",
    "        self.card_type = new_type\n",
    "\n",
    "    def setValue(self,new_value):\n",
    "        self.value = new_value\n",
    "\n",
    "    def getType(self):\n",
    "        return self.card_type\n",
    "    \n",
    "    def getValue(self):\n",
    "        return self.value\n",
    "    \n"
   ]
  },
  {
   "cell_type": "code",
   "execution_count": 4,
   "metadata": {},
   "outputs": [
    {
     "ename": "SyntaxError",
     "evalue": "invalid syntax (<ipython-input-4-69a389ec8712>, line 13)",
     "output_type": "error",
     "traceback": [
      "\u001b[0;36m  File \u001b[0;32m\"<ipython-input-4-69a389ec8712>\"\u001b[0;36m, line \u001b[0;32m13\u001b[0m\n\u001b[0;31m    card('Ks',10),card('As',11)])\u001b[0m\n\u001b[0m                               ^\u001b[0m\n\u001b[0;31mSyntaxError\u001b[0m\u001b[0;31m:\u001b[0m invalid syntax\n"
     ]
    }
   ],
   "source": [
    "#import card\n",
    "class deck:\n",
    "\n",
    "    deck = ([card('2h',2),card('3h',3),card('4h',4),card('5h',5),card('6h',2),\n",
    "            card('7h',7),card('8h',8),card('9h',9),card('10h',10),card('Jh',10),\n",
    "            card('Qh',10),card('Kh',10,card('Ah',11),card('2d',2),card('3d',3),\n",
    "            card('4d',4),card('5d',5),card('6d',2),card('7d',7),card('8d',8),\n",
    "            card('9d',9),card('10d',10),card('Jd',10),card('Qd',10),card('Kd',10),\n",
    "            card('Ad',11),card('2c',2),card('3c',3),card('4c',4),card('5c',5),\n",
    "            card('6c',2),card('7c',7),card('8c',8),card('9c',9),card('10c',10),\n",
    "            card('Jc',10),card('Qc',10),card('Kc',10),card('Ac',11),card('2s',2),\n",
    "            card('3s',3),card('4s',4),card('5s',5),card('6s',2),card('7s',7),\n",
    "            card('8s',8),card('9s',9),card('10s',10),card('Js',10),card('Qs',10),\n",
    "            card('Ks',10),card('As',11))\n",
    "            \n",
    "    def __init__(self, num_decks=1):\n",
    "        self.num_decks = num_decks\n",
    "        self.deck *= num_decks\n",
    "\n",
    "\n",
    "    \n",
    "\n",
    "\n"
   ]
  },
  {
   "cell_type": "code",
   "execution_count": 7,
   "metadata": {},
   "outputs": [
    {
     "ename": "SyntaxError",
     "evalue": "invalid syntax (<ipython-input-7-8c12020363dc>, line 2)",
     "output_type": "error",
     "traceback": [
      "\u001b[0;36m  File \u001b[0;32m\"<ipython-input-7-8c12020363dc>\"\u001b[0;36m, line \u001b[0;32m2\u001b[0m\n\u001b[0;31m    3,4]\u001b[0m\n\u001b[0m    ^\u001b[0m\n\u001b[0;31mSyntaxError\u001b[0m\u001b[0;31m:\u001b[0m invalid syntax\n"
     ]
    }
   ],
   "source": [
    "a = [1,2\n",
    "    3,4]"
   ]
  },
  {
   "cell_type": "code",
   "execution_count": null,
   "metadata": {},
   "outputs": [],
   "source": []
  }
 ],
 "metadata": {
  "kernelspec": {
   "display_name": "Python 3",
   "language": "python",
   "name": "python3"
  },
  "language_info": {
   "codemirror_mode": {
    "name": "ipython",
    "version": 3
   },
   "file_extension": ".py",
   "mimetype": "text/x-python",
   "name": "python",
   "nbconvert_exporter": "python",
   "pygments_lexer": "ipython3",
   "version": "3.7.0"
  }
 },
 "nbformat": 4,
 "nbformat_minor": 2
}
