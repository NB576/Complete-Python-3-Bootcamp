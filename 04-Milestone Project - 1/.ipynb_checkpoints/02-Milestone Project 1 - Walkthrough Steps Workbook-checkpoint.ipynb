{
 "cells": [
  {
   "cell_type": "markdown",
   "metadata": {},
   "source": [
    "# Milestone Project 1: Walkthrough Steps Workbook\n",
    "\n",
    "Below is a set of steps for you to follow to try to create the Tic Tac Toe Milestone Project game!"
   ]
  },
  {
   "cell_type": "markdown",
   "metadata": {},
   "source": [
    "#### Some suggested tools before you get started:\n",
    "To take input from a user:\n",
    "\n",
    "    player1 = input(\"Please pick a marker 'X' or 'O'\")\n",
    "    \n",
    "Note that input() takes in a string. If you need an integer value, use\n",
    "\n",
    "    position = int(input('Please enter a number'))\n",
    "    \n",
    "<br>To clear the screen between moves:\n",
    "\n",
    "    from IPython.display import clear_output\n",
    "    clear_output()\n",
    "    \n",
    "Note that clear_output() will only work in jupyter. To clear the screen in other IDEs, consider:\n",
    "\n",
    "    print('\\n'*100)\n",
    "    \n",
    "This scrolls the previous board up out of view. Now on to the program!"
   ]
  },
  {
   "cell_type": "markdown",
   "metadata": {},
   "source": [
    "**Step 1: Write a function that can print out a board. Set up your board as a list, where each index 1-9 corresponds with a number on a number pad, so you get a 3 by 3 board representation.**"
   ]
  },
  {
   "cell_type": "code",
   "execution_count": 418,
   "metadata": {},
   "outputs": [],
   "source": [
    "def display_board(board):\n",
    "    print(board[1:4])\n",
    "    print(board[4:7])\n",
    "    print(board[7:10])\n",
    "    pass"
   ]
  },
  {
   "cell_type": "markdown",
   "metadata": {},
   "source": [
    "**TEST Step 1:** run your function on a test version of the board list, and make adjustments as necessary"
   ]
  },
  {
   "cell_type": "code",
   "execution_count": 419,
   "metadata": {},
   "outputs": [
    {
     "name": "stdout",
     "output_type": "stream",
     "text": [
      "['X', 'O', 'X']\n",
      "['O', 'X', 'O']\n",
      "['X', 'O', '$']\n"
     ]
    }
   ],
   "source": [
    "#test_board = ['#','X','O','X','O','X','O','X','O','X']\n",
    "display_board(test_board)"
   ]
  },
  {
   "cell_type": "markdown",
   "metadata": {},
   "source": [
    "**Step 2: Write a function that can take in a player input and assign their marker as 'X' or 'O'. Think about using *while* loops to continually ask until you get a correct answer.**"
   ]
  },
  {
   "cell_type": "code",
   "execution_count": 420,
   "metadata": {},
   "outputs": [],
   "source": [
    "def player_input():\n",
    "    while True:\n",
    "        m = input('please choose a marker (X or O): ')\n",
    "        if m == 'X' or m == 'O':\n",
    "            if m == 'X':\n",
    "                print('Player 1 : X, Player 2 : O')\n",
    "                return ('X','O')\n",
    "            else:\n",
    "                print('Player 1 : O, Player 2 : X')                \n",
    "                return ('O','X')\n",
    "        else:\n",
    "            print('Invalid marker selection. Please try again')\n",
    "    pass"
   ]
  },
  {
   "cell_type": "markdown",
   "metadata": {},
   "source": [
    "**TEST Step 2:** run the function to make sure it returns the desired output"
   ]
  },
  {
   "cell_type": "code",
   "execution_count": 421,
   "metadata": {},
   "outputs": [],
   "source": [
    "#player_input()"
   ]
  },
  {
   "cell_type": "markdown",
   "metadata": {},
   "source": [
    "**Step 3: Write a function that takes in the board list object, a marker ('X' or 'O'), and a desired position (number 1-9) and assigns it to the board.**"
   ]
  },
  {
   "cell_type": "code",
   "execution_count": 422,
   "metadata": {},
   "outputs": [],
   "source": [
    "def place_marker(board, marker, position):\n",
    "    board[position] = marker\n",
    "    pass"
   ]
  },
  {
   "cell_type": "markdown",
   "metadata": {},
   "source": [
    "**TEST Step 3:** run the place marker function using test parameters and display the modified board"
   ]
  },
  {
   "cell_type": "code",
   "execution_count": 423,
   "metadata": {},
   "outputs": [
    {
     "name": "stdout",
     "output_type": "stream",
     "text": [
      "['X', 'O', 'X']\n",
      "['O', 'X', 'O']\n",
      "['X', 'O', '$']\n"
     ]
    }
   ],
   "source": [
    "place_marker(test_board,'$',9)\n",
    "display_board(test_board)"
   ]
  },
  {
   "cell_type": "markdown",
   "metadata": {},
   "source": [
    "**Step 4: Write a function that takes in a board and a mark (X or O) and then checks to see if that mark has won. **"
   ]
  },
  {
   "cell_type": "code",
   "execution_count": 424,
   "metadata": {},
   "outputs": [],
   "source": [
    "def win_check(board, mark):\n",
    "    #check rows\n",
    "    for i in [1,4,7]:\n",
    "        if board[i] == mark and board[i+1] == mark and board[i+2] == mark:\n",
    "            return True\n",
    "            print('mark % has won' %mark)\n",
    "    #check columns\n",
    "    for i in range(1,4):\n",
    "        if board[i] == mark and board[i+3] == mark and board[i+6] == mark:\n",
    "            return True\n",
    "            print('mark % has won' %mark) \n",
    "    #check diagonals\n",
    "    if ((board[1] == mark and board[5] == mark and board[9] == mark) or\n",
    "        (board[3] == mark and board[5] == mark and board[7] == mark)):\n",
    "            return True\n",
    "            print('mark % has won' %mark)     \n",
    "    return False"
   ]
  },
  {
   "cell_type": "markdown",
   "metadata": {},
   "source": [
    "**TEST Step 4:** run the win_check function against our test_board - it should return True"
   ]
  },
  {
   "cell_type": "code",
   "execution_count": 425,
   "metadata": {},
   "outputs": [
    {
     "data": {
      "text/plain": [
       "True"
      ]
     },
     "execution_count": 425,
     "metadata": {},
     "output_type": "execute_result"
    }
   ],
   "source": [
    "win_check(test_board,'X')"
   ]
  },
  {
   "cell_type": "markdown",
   "metadata": {},
   "source": [
    "**Step 5: Write a function that uses the random module to randomly decide which player goes first. You may want to lookup random.randint() Return a string of which player went first.**"
   ]
  },
  {
   "cell_type": "code",
   "execution_count": 426,
   "metadata": {},
   "outputs": [],
   "source": [
    "import random\n",
    "\n",
    "def choose_first():\n",
    "    first_player = str(random.randint(1,2))\n",
    "    print('Player {} goes first!'.format(first_player))\n",
    "    return 'Player {}'.format(first_player)\n",
    "    \n",
    "    "
   ]
  },
  {
   "cell_type": "markdown",
   "metadata": {},
   "source": [
    "**Step 6: Write a function that returns a boolean indicating whether a space on the board is freely available.**"
   ]
  },
  {
   "cell_type": "code",
   "execution_count": 427,
   "metadata": {},
   "outputs": [],
   "source": [
    "def space_check(board, position):\n",
    "    if board[position] == ' ':\n",
    "            return True\n",
    "    return False"
   ]
  },
  {
   "cell_type": "markdown",
   "metadata": {},
   "source": [
    "**Step 7: Write a function that checks if the board is full and returns a boolean value. True if full, False otherwise.**"
   ]
  },
  {
   "cell_type": "code",
   "execution_count": 428,
   "metadata": {},
   "outputs": [],
   "source": [
    "def full_board_check(board):\n",
    "    if ' ' not in board:\n",
    "        return True\n",
    "    return False"
   ]
  },
  {
   "cell_type": "markdown",
   "metadata": {},
   "source": [
    "**Step 8: Write a function that asks for a player's next position (as a number 1-9) and then uses the function from step 6 to check if it's a free position. If it is, then return the position for later use.**"
   ]
  },
  {
   "cell_type": "code",
   "execution_count": 429,
   "metadata": {},
   "outputs": [],
   "source": [
    "def player_choice(board):\n",
    "    while True:\n",
    "        next_pos = int(input('next move (1-9): ')) #note:cannot handle letters (error thrown)\n",
    "        if next_pos in range(1,10) and space_check(board,next_pos) == True:\n",
    "            return next_pos\n",
    "        else:\n",
    "            print('unavailable position. Try again.')\n",
    "    pass"
   ]
  },
  {
   "cell_type": "markdown",
   "metadata": {},
   "source": [
    "**Step 9: Write a function that asks the player if they want to play again and returns a boolean True if they do want to play again.**"
   ]
  },
  {
   "cell_type": "code",
   "execution_count": 430,
   "metadata": {},
   "outputs": [],
   "source": [
    "def replay():\n",
    "    ans = input('Play again? (Y/N)')\n",
    "    if ans == 'Y':\n",
    "        return True\n",
    "    elif ans == 'N':\n",
    "        return False\n",
    "    pass"
   ]
  },
  {
   "cell_type": "markdown",
   "metadata": {
    "collapsed": true
   },
   "source": [
    "**Step 10: Here comes the hard part! Use while loops and the functions you've made to run the game!**"
   ]
  },
  {
   "cell_type": "code",
   "execution_count": null,
   "metadata": {},
   "outputs": [
    {
     "name": "stdout",
     "output_type": "stream",
     "text": [
      "['O', 'X', 'O']\n",
      "['X', 'O', 'O']\n",
      "['X', 'O', 'X']\n",
      "Draw!\n"
     ]
    }
   ],
   "source": [
    "from IPython.display import clear_output\n",
    "\n",
    "print('Welcome to Tic Tac Toe!')\n",
    "\n",
    "while True:\n",
    "    # Set the game up here\n",
    "    p1_marker,p2_marker = player_input()\n",
    "    from IPython.display import clear_output\n",
    "    clear_output()\n",
    "    turn = choose_first()\n",
    "    board = ['#',' ', ' ', ' ', ' ', ' ', ' ', ' ', ' ', ' '] # additional # element to align numbers to input.\n",
    "\n",
    "    while True:\n",
    "        #Player 1 Turn\n",
    "        if turn == 'Player 1':\n",
    "            print(\"Player 1's turn({}):\".format(p1_marker))\n",
    "            display_board(board)\n",
    "            place_marker(board,p1_marker,player_choice(board)) #places marker on board (reprompts if pos invalid)\n",
    "            \n",
    "            #check game ending conditions        \n",
    "            if(win_check(board,p1_marker) == True):\n",
    "                clear_output()\n",
    "                display_board(board) \n",
    "                print('Player 1 wins!')\n",
    "                break\n",
    "            elif(full_board_check(board) == True):\n",
    "                clear_output()\n",
    "                display_board(board)                 \n",
    "                print('Draw!')\n",
    "                break\n",
    "            else:\n",
    "                clear_output()\n",
    "                turn = 'Player 2'\n",
    "        \n",
    "        # Player2's turn.\n",
    "        if turn == 'Player 2':\n",
    "            print(\"Player 2's turn({}):\".format(p2_marker))\n",
    "            display_board(board) \n",
    "            place_marker(board,p2_marker,player_choice(board))            \n",
    "\n",
    "            #check game ending conditions\n",
    "            if(win_check(board,p2_marker) == True):\n",
    "                clear_output()\n",
    "                display_board(board) #displays board\n",
    "                print('Player 2 wins!')\n",
    "                break\n",
    "            elif(full_board_check(board) == True):\n",
    "                clear_output()\n",
    "                display_board(board) #displays board\n",
    "                print('Draw!')\n",
    "                break\n",
    "            else:\n",
    "                clear_output()\n",
    "                turn = 'Player 1'                \n",
    "    #Offers replay option               \n",
    "    if replay() == True:\n",
    "        clear_output()        \n",
    "        continue\n",
    "    break"
   ]
  },
  {
   "cell_type": "markdown",
   "metadata": {
    "collapsed": true
   },
   "source": [
    "## Good Job!"
   ]
  },
  {
   "cell_type": "code",
   "execution_count": null,
   "metadata": {},
   "outputs": [],
   "source": []
  }
 ],
 "metadata": {
  "kernelspec": {
   "display_name": "Python 3",
   "language": "python",
   "name": "python3"
  }
 },
 "nbformat": 4,
 "nbformat_minor": 1
}
