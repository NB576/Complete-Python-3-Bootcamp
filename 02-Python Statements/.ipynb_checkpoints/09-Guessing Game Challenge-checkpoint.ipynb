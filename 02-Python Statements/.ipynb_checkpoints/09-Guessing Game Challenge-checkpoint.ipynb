{
 "cells": [
  {
   "cell_type": "markdown",
   "metadata": {},
   "source": [
    "# Guessing Game Challenge\n",
    "\n",
    "Let's use `while` loops to create a guessing game.\n",
    "\n",
    "The Challenge:\n",
    "\n",
    "Write a program that picks a random integer from 1 to 100, and has players guess the number. The rules are:\n",
    "\n",
    "1. If a player's guess is less than 1 or greater than 100, say \"OUT OF BOUNDS\"\n",
    "2. On a player's first turn, if their guess is\n",
    " * within 10 of the number, return \"WARM!\"\n",
    " * further than 10 away from the number, return \"COLD!\"\n",
    "3. On all subsequent turns, if a guess is \n",
    " * closer to the number than the previous guess return \"WARMER!\"\n",
    " * farther from the number than the previous guess, return \"COLDER!\"\n",
    "4. When the player's guess equals the number, tell them they've guessed correctly *and* how many guesses it took!\n",
    "\n",
    "You can try this from scratch, or follow the steps outlined below. A separate Solution notebook has been provided. Good luck!\n"
   ]
  },
  {
   "cell_type": "markdown",
   "metadata": {},
   "source": [
    "#### First, pick a random integer from 1 to 100 using the random module and assign it to a variable\n",
    "\n",
    "Note: `random.randint(a,b)` returns a random integer in range `[a, b]`, including both end points."
   ]
  },
  {
   "cell_type": "code",
   "execution_count": 5,
   "metadata": {},
   "outputs": [],
   "source": [
    "import random\n",
    "random_int = random.randint(1,100)"
   ]
  },
  {
   "cell_type": "markdown",
   "metadata": {},
   "source": [
    "#### Next, print an introduction to the game and explain the rules"
   ]
  },
  {
   "cell_type": "code",
   "execution_count": 15,
   "metadata": {},
   "outputs": [
    {
     "name": "stdout",
     "output_type": "stream",
     "text": [
      "\n",
      "Welcome to the Guessing Game!\n",
      "\n",
      "Here are the rules:\n",
      "1.Guess a number between 1 and 100.\n",
      "2.I'll then say:\n",
      "    \"WARM!\" if you are within 10 of the correct number.\n",
      "    \"COLD!\" if you are further than 10 of the correct number.\n",
      "3.On subsequent turns, if your guess is:\n",
      "    Closer to the number than the previous guess I'll say \"WARMER!\"\n",
      "    Farther from the number than the previous guess, I'll say \"COLDER!\"\n",
      "4.Once you guess the correct number ill say \"CORRECT!\" and tell you how many guesses it took!\n",
      "\n",
      "LETS PLAY!\n",
      "\n"
     ]
    }
   ],
   "source": [
    "intro = \"\"\"\n",
    "Welcome to the Guessing Game!\n",
    "\n",
    "Here are the rules:\n",
    "1.Guess a number between 1 and 100.\n",
    "2.I'll then say:\n",
    "    \"WARM!\" if you are within 10 of the correct number.\n",
    "    \"COLD!\" if you are further than 10 of the correct number.\n",
    "3.On subsequent turns, if your guess is:\n",
    "    Closer to the number than the previous guess I'll say \"WARMER!\"\n",
    "    Farther from the number than the previous guess, I'll say \"COLDER!\"\n",
    "4.Once you guess the correct number ill say \"CORRECT!\" and tell you how many guesses it took!\n",
    "\n",
    "LETS PLAY!\n",
    "\"\"\"\n",
    "print(a)"
   ]
  },
  {
   "cell_type": "markdown",
   "metadata": {},
   "source": [
    "#### Create a list to store guesses\n",
    "\n",
    "Hint: zero is a good placeholder value. It's useful because it evaluates to \"False\""
   ]
  },
  {
   "cell_type": "code",
   "execution_count": 13,
   "metadata": {},
   "outputs": [
    {
     "name": "stdout",
     "output_type": "stream",
     "text": [
      "Enter your name:\n",
      "sfd\n",
      "Hello, sfd\n"
     ]
    }
   ],
   "source": [
    "guessed_number = 0"
   ]
  },
  {
   "cell_type": "markdown",
   "metadata": {},
   "source": [
    "#### Write a `while` loop that asks for a valid guess. Test it a few times to make sure it works."
   ]
  },
  {
   "cell_type": "code",
   "execution_count": 18,
   "metadata": {},
   "outputs": [
    {
     "name": "stdout",
     "output_type": "stream",
     "text": [
      "Please guess a number between 1 and 100:12312\n",
      "invalid guess please try again: \n",
      "Please guess a number between 1 and 100:23\n"
     ]
    }
   ],
   "source": [
    "while True:\n",
    "    guess = int(input('Please guess a number between 1 and 100:'))\n",
    "    if guess >= 1 and guess <= 100:\n",
    "        guesses = guess\n",
    "        break\n",
    "    else:\n",
    "        print('invalid guess please try again.')\n",
    "    "
   ]
  },
  {
   "cell_type": "markdown",
   "metadata": {},
   "source": [
    "#### Write a `while` loop that compares the player's guess to our number. If the player guesses correctly, break from the loop. Otherwise, tell the player if they're warmer or colder, and continue asking for guesses.\n",
    "\n",
    "Some hints:\n",
    "* it may help to sketch out all possible combinations on paper first!\n",
    "* you can use the `abs()` function to find the positive difference between two numbers\n",
    "* if you append all new guesses to the list, then the previous guess is given as `guesses[-2]`"
   ]
  },
  {
   "cell_type": "code",
   "execution_count": 32,
   "metadata": {},
   "outputs": [
    {
     "name": "stdout",
     "output_type": "stream",
     "text": [
      "\n",
      "Welcome to the Guessing Game!\n",
      "\n",
      "Here are the rules:\n",
      "1.Guess a number between 1 and 100.\n",
      "2.I'll then say:\n",
      "    \"WARM!\" if you are within 10 of the correct number.\n",
      "    \"COLD!\" if you are further than 10 of the correct number.\n",
      "3.On subsequent turns, if your guess is:\n",
      "    Closer to the number than the previous guess I'll say \"WARMER!\"\n",
      "    Farther from the number than the previous guess, I'll say \"COLDER!\"\n",
      "4.Once you guess the correct number ill say \"CORRECT!\" and tell you how many guesses it took!\n",
      "\n",
      "LETS PLAY!\n",
      "\n",
      "Please guess a number between 1 and 100: 50\n",
      "COLD\n",
      "Please guess a number between 1 and 100: 60\n",
      "WARMER!\n",
      "Please guess a number between 1 and 100: 70\n",
      "WARMER!\n",
      "Please guess a number between 1 and 100: 80\n",
      "COLDER!\n",
      "Please guess a number between 1 and 100: 75\n",
      "WARMER!\n",
      "Please guess a number between 1 and 100: 74\n",
      "WARMER!\n",
      "Please guess a number between 1 and 100: 73\n",
      "WARMER!\n",
      "Please guess a number between 1 and 100: 72\n",
      "WARMER!\n",
      "Please guess a number between 1 and 100: 71\n",
      "CORRECT! you took 8 guesses.\n"
     ]
    }
   ],
   "source": [
    "import random\n",
    "random_int = random.randint(1,100)\n",
    "guessed_number = 0\n",
    "counter = 0\n",
    "\n",
    "intro = \"\"\"\n",
    "Welcome to the Guessing Game!\n",
    "\n",
    "Here are the rules:\n",
    "1.Guess a number between 1 and 100.\n",
    "2.I'll then say:\n",
    "    \"WARM!\" if you are within 10 of the correct number.\n",
    "    \"COLD!\" if you are further than 10 of the correct number.\n",
    "3.On subsequent turns, if your guess is:\n",
    "    Closer to the number than the previous guess I'll say \"WARMER!\"\n",
    "    Farther from the number than the previous guess, I'll say \"COLDER!\"\n",
    "4.Once you guess the correct number ill say \"CORRECT!\" and tell you how many guesses it took!\n",
    "\n",
    "LETS PLAY!\n",
    "\"\"\"\n",
    "print(intro)\n",
    "\n",
    "while True:    \n",
    "    \n",
    "    guess = int(input('Please guess a number between 1 and 100: '))\n",
    "    if guess < 1 or guess > 100:\n",
    "        print('invalid guess please try again.')\n",
    "        continue\n",
    "    \n",
    "    if (counter == 0):\n",
    "        guessed_number = guess\n",
    "        if(abs(random_int - guess) <= 10):\n",
    "            print(\"WARM\")\n",
    "            counter += 1\n",
    "            continue\n",
    "        elif(abs(random_int - guess) > 10):\n",
    "            print(\"COLD\")\n",
    "            counter += 1\n",
    "            continue\n",
    "\n",
    "    if (random_int == guess):\n",
    "        print(\"CORRECT! you took \"+str(counter)+\" guesses.\")\n",
    "        break\n",
    "    elif (abs(random_int - guess) < abs(random_int - guessed_number)):\n",
    "        print(\"WARMER!\")\n",
    "        guessed_number = guess\n",
    "        counter += 1\n",
    "        continue\n",
    "    elif (abs(random_int - guess) >= abs(random_int - guessed_number)):\n",
    "        print(\"COLDER!\")\n",
    "        guessed_number = guess\n",
    "        counter += 1\n",
    "        continue\n",
    "    \n",
    "    "
   ]
  },
  {
   "cell_type": "markdown",
   "metadata": {},
   "source": [
    "That's it! You've just programmed your first game!\n",
    "\n",
    "In the next section we'll learn how to turn some of these repetitive actions into *functions* that can be called whenever we need them."
   ]
  },
  {
   "cell_type": "markdown",
   "metadata": {},
   "source": [
    "### Good Job!"
   ]
  }
 ],
 "metadata": {
  "kernelspec": {
   "display_name": "Python 3",
   "language": "python",
   "name": "python3"
  },
  "language_info": {
   "codemirror_mode": {
    "name": "ipython",
    "version": 3
   },
   "file_extension": ".py",
   "mimetype": "text/x-python",
   "name": "python",
   "nbconvert_exporter": "python",
   "pygments_lexer": "ipython3",
   "version": "3.7.0"
  }
 },
 "nbformat": 4,
 "nbformat_minor": 2
}
